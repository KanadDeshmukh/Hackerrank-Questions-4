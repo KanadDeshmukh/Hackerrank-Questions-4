{
 "cells": [
  {
   "cell_type": "markdown",
   "id": "d2bf164d",
   "metadata": {},
   "source": [
    "## Hackerrank Questions 4"
   ]
  },
  {
   "cell_type": "markdown",
   "id": "8ec68017",
   "metadata": {},
   "source": [
    "Q1. https://www.hackerrank.com/challenges/class-1-dealing-with-complex-numbers/problem"
   ]
  },
  {
   "cell_type": "code",
   "execution_count": 1,
   "id": "f5c9bec9",
   "metadata": {},
   "outputs": [
    {
     "name": "stdout",
     "output_type": "stream",
     "text": [
      "2 1\n",
      "5 6\n",
      "7.00+7.00i\n",
      "-3.00-5.00i\n",
      "4.00+17.00i\n",
      "0.26-0.11i\n",
      "2.24+0.00i\n",
      "7.81+0.00i\n"
     ]
    }
   ],
   "source": [
    "import math\n",
    "\n",
    "class Complex(object):\n",
    "    def __init__(self, real, imaginary):\n",
    "        self.real = real\n",
    "        self.imaginary = imaginary\n",
    "        \n",
    "    def __add__(self, no):\n",
    "        tot_real = self.real + no.real\n",
    "        tot_imaginary = self.imaginary + no.imaginary   \n",
    "        return Complex(tot_real,tot_imaginary) \n",
    "        \n",
    "    def __sub__(self, no):\n",
    "        tot_real = self.real - no.real\n",
    "        tot_imaginary = self.imaginary - no.imaginary   \n",
    "        return Complex(tot_real,tot_imaginary)         \n",
    "        \n",
    "    def __mul__(self, no):\n",
    "        tot_real = (self.real * no.real) - (self.imaginary * no.imaginary)\n",
    "        tot_imaginary = (self.real * no.imaginary) + (self.imaginary * no.real)\n",
    "        return Complex(tot_real,tot_imaginary)  \n",
    "\n",
    "    def __truediv__(self, no):\n",
    "        tot_real = (self.real * no.real + self.imaginary * no.imaginary ) / (no.real**2 + no.imaginary**2)\n",
    "        tot_imaginary = (self.imaginary * no.real - self.real * no.imaginary) / ( no.real**2 + no.imaginary**2)\n",
    "        return Complex(tot_real,tot_imaginary)\n",
    "\n",
    "    def mod(self):\n",
    "        tot_real = math.sqrt((self.real**2 + self.imaginary**2))\n",
    "        tot_imaginary = 0\n",
    "        return Complex(tot_real,tot_imaginary)\n",
    "\n",
    "    def __str__(self):\n",
    "        if self.imaginary == 0:\n",
    "            result = \"%.2f+0.00i\" % (self.real)\n",
    "        elif self.real == 0:\n",
    "            if self.imaginary >= 0:\n",
    "                result = \"0.00+%.2fi\" % (self.imaginary)\n",
    "            else:\n",
    "                result = \"0.00-%.2fi\" % (abs(self.imaginary))\n",
    "        elif self.imaginary > 0:\n",
    "            result = \"%.2f+%.2fi\" % (self.real, self.imaginary)\n",
    "        else:\n",
    "            result = \"%.2f-%.2fi\" % (self.real, abs(self.imaginary))\n",
    "        return result\n",
    "\n",
    "if __name__ == '__main__':\n",
    "    c = map(float, input().split())\n",
    "    d = map(float, input().split())\n",
    "    x = Complex(*c)\n",
    "    y = Complex(*d)\n",
    "    print(*map(str, [x+y, x-y, x*y, x/y, x.mod(), y.mod()]), sep='\\n')"
   ]
  },
  {
   "cell_type": "markdown",
   "id": "cd971667",
   "metadata": {},
   "source": [
    "Q3. https://www.hackerrank.com/challenges/class-2-find-the-torsional-angle/problem"
   ]
  },
  {
   "cell_type": "code",
   "execution_count": 3,
   "id": "a19d1515",
   "metadata": {},
   "outputs": [
    {
     "name": "stdout",
     "output_type": "stream",
     "text": [
      "0 4 5\n",
      "1 7 6\n",
      "0 5 9\n",
      "1 7 2\n",
      "8.19\n"
     ]
    }
   ],
   "source": [
    "import math\n",
    "\n",
    "class Points(object):\n",
    "    def __init__(self, x, y, z):\n",
    "        self.x = float(x)\n",
    "        self.y = float(y)\n",
    "        self.z = float(z)\n",
    "\n",
    "    def __sub__(self, no):\n",
    "        return Points((self.x - no.x), (self.y - no.y), (self.z - no.z))\n",
    "\n",
    "    def dot(self, no):\n",
    "        list1 = [self.x, self.y, self.z]\n",
    "        list2 = [no.x, no.y, no.z]\n",
    "        return float(sum([i*j for (i, j) in zip(list1, list2)]))\n",
    "\n",
    "    def cross(self, no):\n",
    "        return Points(((self.y * no.z) - (self.z * no.y)), ((self.z * no.x) - (self.x * no.z)), ((self.x * no.y)- (self.y * no.x)))\n",
    "        \n",
    "    def absolute(self):\n",
    "        return pow((self.x ** 2 + self.y ** 2 + self.z ** 2), 0.5)\n",
    "\n",
    "if __name__ == '__main__':\n",
    "    points = list()\n",
    "    for i in range(4):\n",
    "        a = list(map(float, input().split()))\n",
    "        points.append(a)\n",
    "\n",
    "    a, b, c, d = Points(*points[0]), Points(*points[1]), Points(*points[2]), Points(*points[3])\n",
    "    x = (b - a).cross(c - b)\n",
    "    y = (c - b).cross(d - c)\n",
    "    angle = math.acos(x.dot(y) / (x.absolute() * y.absolute()))\n",
    "\n",
    "    print(\"%.2f\" % math.degrees(angle))"
   ]
  },
  {
   "cell_type": "code",
   "execution_count": null,
   "id": "b243598f",
   "metadata": {},
   "outputs": [],
   "source": []
  }
 ],
 "metadata": {
  "kernelspec": {
   "display_name": "Python 3 (ipykernel)",
   "language": "python",
   "name": "python3"
  },
  "language_info": {
   "codemirror_mode": {
    "name": "ipython",
    "version": 3
   },
   "file_extension": ".py",
   "mimetype": "text/x-python",
   "name": "python",
   "nbconvert_exporter": "python",
   "pygments_lexer": "ipython3",
   "version": "3.9.6"
  }
 },
 "nbformat": 4,
 "nbformat_minor": 5
}
